{
 "cells": [
  {
   "cell_type": "code",
   "execution_count": 1,
   "metadata": {},
   "outputs": [],
   "source": [
    "import grpc\n",
    "import numpy as np"
   ]
  },
  {
   "cell_type": "code",
   "execution_count": 2,
   "metadata": {},
   "outputs": [
    {
     "name": "stderr",
     "output_type": "stream",
     "text": [
      "/Users/abhijit/projects/model-server/.venv/lib/python3.11/site-packages/google/protobuf/runtime_version.py:98: UserWarning: Protobuf gencode version 5.29.3 is exactly one major version older than the runtime version 6.31.1 at model_server/apis/predict.proto. Please update the gencode to avoid compatibility violations in the next runtime release.\n",
      "  warnings.warn(\n",
      "/Users/abhijit/projects/model-server/.venv/lib/python3.11/site-packages/google/protobuf/runtime_version.py:98: UserWarning: Protobuf gencode version 5.29.3 is exactly one major version older than the runtime version 6.31.1 at model_server/protos/tensor.proto. Please update the gencode to avoid compatibility violations in the next runtime release.\n",
      "  warnings.warn(\n",
      "/Users/abhijit/projects/model-server/.venv/lib/python3.11/site-packages/google/protobuf/runtime_version.py:98: UserWarning: Protobuf gencode version 5.29.3 is exactly one major version older than the runtime version 6.31.1 at model_server/protos/model_info.proto. Please update the gencode to avoid compatibility violations in the next runtime release.\n",
      "  warnings.warn(\n"
     ]
    }
   ],
   "source": [
    "from model_server import server_pb2, server_pb2_grpc\n",
    "from model_server.utils import create_tensor_proto, create_predict_request, create_array_from_proto, create_model_info_proto"
   ]
  },
  {
   "cell_type": "code",
   "execution_count": 3,
   "metadata": {},
   "outputs": [],
   "source": [
    "channel = grpc.insecure_channel('localhost:5001')"
   ]
  },
  {
   "cell_type": "code",
   "execution_count": 4,
   "metadata": {},
   "outputs": [],
   "source": [
    "# create a stub (client)\n",
    "stub = server_pb2_grpc.ModelServerStub(channel)"
   ]
  },
  {
   "cell_type": "code",
   "execution_count": 5,
   "metadata": {},
   "outputs": [],
   "source": [
    "input_array_dict = {\"input1\":create_tensor_proto(np.array([1.0,2.0]).astype(np.float32)),\n",
    "                    \"input2\":create_tensor_proto(np.array([[10.0,11.0], [12.0,13.0]]).astype(np.float32)),\n",
    "                    \"input3\":create_tensor_proto(np.array([\"Hi\".encode(), \"Hello\".encode(), \"test\".encode()]).astype(object))\n",
    "                   }"
   ]
  },
  {
   "cell_type": "code",
   "execution_count": 6,
   "metadata": {},
   "outputs": [
    {
     "data": {
      "text/plain": [
       "{'input1': tensor_shape {\n",
       "   size: 2\n",
       " }\n",
       " tensor_content: \"\\000\\000\\200?\\000\\000\\000@\",\n",
       " 'input2': tensor_shape {\n",
       "   size: 2\n",
       " }\n",
       " tensor_shape {\n",
       "   size: 2\n",
       " }\n",
       " tensor_content: \"\\000\\000 A\\000\\0000A\\000\\000@A\\000\\000PA\",\n",
       " 'input3': tensor_shape {\n",
       "   size: 3\n",
       " }\n",
       " string_val: \"Hi\"\n",
       " string_val: \"Hello\"\n",
       " string_val: \"test\"\n",
       " dtype: OBJECT}"
      ]
     },
     "execution_count": 6,
     "metadata": {},
     "output_type": "execute_result"
    }
   ],
   "source": [
    "input_array_dict"
   ]
  },
  {
   "cell_type": "code",
   "execution_count": 7,
   "metadata": {},
   "outputs": [],
   "source": [
    "predict_request= create_predict_request(input_array_dict, name=\"simple_call\")"
   ]
  },
  {
   "cell_type": "code",
   "execution_count": 8,
   "metadata": {},
   "outputs": [
    {
     "data": {
      "text/plain": [
       "name: \"simple_call\"\n",
       "inputs {\n",
       "  key: \"input3\"\n",
       "  value {\n",
       "    tensor_shape {\n",
       "      size: 3\n",
       "    }\n",
       "    string_val: \"Hi\"\n",
       "    string_val: \"Hello\"\n",
       "    string_val: \"test\"\n",
       "    dtype: OBJECT\n",
       "  }\n",
       "}\n",
       "inputs {\n",
       "  key: \"input2\"\n",
       "  value {\n",
       "    tensor_shape {\n",
       "      size: 2\n",
       "    }\n",
       "    tensor_shape {\n",
       "      size: 2\n",
       "    }\n",
       "    tensor_content: \"\\000\\000 A\\000\\0000A\\000\\000@A\\000\\000PA\"\n",
       "  }\n",
       "}\n",
       "inputs {\n",
       "  key: \"input1\"\n",
       "  value {\n",
       "    tensor_shape {\n",
       "      size: 2\n",
       "    }\n",
       "    tensor_content: \"\\000\\000\\200?\\000\\000\\000@\"\n",
       "  }\n",
       "}"
      ]
     },
     "execution_count": 8,
     "metadata": {},
     "output_type": "execute_result"
    }
   ],
   "source": [
    "predict_request"
   ]
  },
  {
   "cell_type": "code",
   "execution_count": 9,
   "metadata": {},
   "outputs": [],
   "source": [
    "# make the call\n",
    "response = stub.GetPredictions(predict_request)"
   ]
  },
  {
   "cell_type": "code",
   "execution_count": 10,
   "metadata": {},
   "outputs": [
    {
     "data": {
      "text/plain": [
       "name: \"simple_call\"\n",
       "outputs {\n",
       "  key: \"output_array\"\n",
       "  value {\n",
       "    tensor_shape {\n",
       "      size: 2\n",
       "    }\n",
       "    tensor_content: \"\\000\\000\\310B\\000\\000HC\"\n",
       "  }\n",
       "}"
      ]
     },
     "execution_count": 10,
     "metadata": {},
     "output_type": "execute_result"
    }
   ],
   "source": [
    "response"
   ]
  },
  {
   "cell_type": "code",
   "execution_count": 11,
   "metadata": {},
   "outputs": [
    {
     "data": {
      "text/plain": [
       "array([100., 200.], dtype=float32)"
      ]
     },
     "execution_count": 11,
     "metadata": {},
     "output_type": "execute_result"
    }
   ],
   "source": [
    "create_array_from_proto(response.outputs[\"output_array\"])"
   ]
  },
  {
   "cell_type": "markdown",
   "metadata": {},
   "source": [
    "# Get model Status"
   ]
  },
  {
   "cell_type": "code",
   "execution_count": 12,
   "metadata": {},
   "outputs": [],
   "source": [
    "model_info_proto = create_model_info_proto({})"
   ]
  },
  {
   "cell_type": "code",
   "execution_count": 13,
   "metadata": {},
   "outputs": [
    {
     "data": {
      "text/plain": [
       "model_server.protos.model_info_pb2.ModelInfo"
      ]
     },
     "execution_count": 13,
     "metadata": {},
     "output_type": "execute_result"
    }
   ],
   "source": [
    "type(model_info_proto)"
   ]
  },
  {
   "cell_type": "code",
   "execution_count": 14,
   "metadata": {},
   "outputs": [],
   "source": [
    "response = stub.GetModelInfo(model_info_proto)"
   ]
  },
  {
   "cell_type": "code",
   "execution_count": 15,
   "metadata": {},
   "outputs": [
    {
     "data": {
      "text/plain": [
       "info {\n",
       "  version: \"1\"\n",
       "  name: \"first_model\"\n",
       "  status: \"up\"\n",
       "}\n",
       "info {\n",
       "  version: \"2\"\n",
       "  name: \"second_model\"\n",
       "  status: \"down\"\n",
       "}"
      ]
     },
     "execution_count": 15,
     "metadata": {},
     "output_type": "execute_result"
    }
   ],
   "source": [
    "response"
   ]
  }
 ],
 "metadata": {
  "kernelspec": {
   "display_name": "model-server",
   "language": "python",
   "name": "python3"
  },
  "language_info": {
   "codemirror_mode": {
    "name": "ipython",
    "version": 3
   },
   "file_extension": ".py",
   "mimetype": "text/x-python",
   "name": "python",
   "nbconvert_exporter": "python",
   "pygments_lexer": "ipython3",
   "version": "3.11.13"
  }
 },
 "nbformat": 4,
 "nbformat_minor": 2
}
